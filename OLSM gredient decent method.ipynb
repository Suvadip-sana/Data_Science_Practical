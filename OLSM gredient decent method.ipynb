{
 "cells": [
  {
   "cell_type": "markdown",
   "id": "54f3d3bc-ca57-4b7e-b9ae-9dd0e21bd881",
   "metadata": {},
   "source": [
    "# Ordinary Least Squere Method and Gredient Decent Method"
   ]
  },
  {
   "cell_type": "markdown",
   "id": "3226bbf7-e1c8-4ee5-b749-56054a9aa721",
   "metadata": {},
   "source": [
    "### OLSM Algorithm:\n",
    "\n",
    "#### 1. Calculate the Mean of x and y\n",
    "    1) Compute the mean of the independent variable 𝑥 and the dependent variable y.\n",
    "    2) These means are used for calculating variance and covariance.\n",
    "    \n",
    "#### 2. Compute Variance and Covariance\n",
    "    1) Variance of x: Measure how much 𝑥 varies from its mean.\n",
    "    2) Covariance between 𝑥 and y: Measure how changes in x are associated with changes in y.\n",
    "\n",
    "#### 3. Calculate the Slope (m)\n",
    "\n",
    "    The slope is determined as the ratio of the covariance to the variance. It represents the rate of change of y with respect to x.\n",
    "\n",
    "#### 4. Calculate the Intercept (c)\n",
    "    The intercept is calculated using the formula involving the slope and the mean values of x and y. It represents the point where the line crosses the y-axis.\n",
    "\n",
    "#### 5. Generate the Best-Fitted Line\n",
    "    Use the slope and intercept to calculate the predicted y-values for the given x-values.\n",
    "    \n",
    "#### 6. Compute the Sum of Squared Errors (SSE)\n",
    "    Compute the squared difference between the actual y-values and the predicted y-values, summing them to measure the error in the model.\n",
    "\n",
    "#### 7. Visualize the Best-Fitted Line\n",
    "    1) Plot the data points as a scatter plot.\n",
    "    2) Overlay the best-fitted line using the predicted y-values to visually assess the fit.\n"
   ]
  },
  {
   "cell_type": "code",
   "execution_count": 1,
   "id": "d8180519-cae5-46d9-999c-89a5e828df20",
   "metadata": {},
   "outputs": [],
   "source": [
    "import numpy as np\n",
    "import pandas as pd\n",
    "import matplotlib.pyplot as plt"
   ]
  },
  {
   "cell_type": "code",
   "execution_count": 3,
   "id": "95ff03b5-1c52-41f1-a338-d1c010328c17",
   "metadata": {},
   "outputs": [],
   "source": [
    "noOfDataPoints = 13\n",
    "m = noOfDataPoints"
   ]
  },
  {
   "cell_type": "code",
   "execution_count": 4,
   "id": "716159f0-59d1-4d7e-8144-2dc2dee69307",
   "metadata": {},
   "outputs": [
    {
     "data": {
      "text/plain": [
       "True"
      ]
     },
     "execution_count": 4,
     "metadata": {},
     "output_type": "execute_result"
    }
   ],
   "source": [
    "x = [7,5,8,7,2,12,5,9,4,11,19,9,10]\n",
    "y = [90,86,87,88,100,86,103,97,94,78,77,55,86]\n",
    "len(x) == len(y) == 13"
   ]
  },
  {
   "cell_type": "code",
   "execution_count": 5,
   "id": "b20dd27e-9fe6-4361-8ac7-a764993d3abf",
   "metadata": {},
   "outputs": [
    {
     "name": "stdout",
     "output_type": "stream",
     "text": [
      "8.307692307692308 86.6923076923077\n"
     ]
    }
   ],
   "source": [
    "x_mean = np.mean(x)\n",
    "y_mean = np.mean(y)\n",
    "print(x_mean, y_mean)"
   ]
  },
  {
   "cell_type": "code",
   "execution_count": 6,
   "id": "fe0c78e8-c208-40f3-a593-38784929533c",
   "metadata": {},
   "outputs": [],
   "source": [
    "def OLSM(x,y):\n",
    "    x_mean = np.mean(x)\n",
    "    y_mean = np.mean(y) \n",
    "    x_var = []\n",
    "    cov_xy = []\n",
    "\n",
    "    for i in range(0, m):\n",
    "        cov_xy.append((x[i]-x_mean)*(y[i]-y_mean))\n",
    "        x_var.append((x[i]-x_mean)**2)\n",
    "\n",
    "    cov = np.sum(cov_xy)\n",
    "    var = np.sum(x_var)\n",
    "    slope = cov/var\n",
    "    intercept = y_mean - slope*x_mean\n",
    "    return (slope, intercept)\n",
    "    "
   ]
  },
  {
   "cell_type": "code",
   "execution_count": 7,
   "id": "353ae4a4-4e51-459b-84ed-8d7a9b6eeb5c",
   "metadata": {},
   "outputs": [],
   "source": [
    "slope, intercept = OLSM(x, y)"
   ]
  },
  {
   "cell_type": "code",
   "execution_count": 8,
   "id": "564ad945-5185-48ea-99d4-6e0db30c6dfd",
   "metadata": {},
   "outputs": [
    {
     "data": {
      "text/plain": [
       "-1.4309392265193368"
      ]
     },
     "execution_count": 8,
     "metadata": {},
     "output_type": "execute_result"
    }
   ],
   "source": [
    "slope"
   ]
  },
  {
   "cell_type": "code",
   "execution_count": 9,
   "id": "bf5388b7-ca00-40aa-9b16-fb25d970124e",
   "metadata": {},
   "outputs": [
    {
     "data": {
      "text/plain": [
       "98.58011049723757"
      ]
     },
     "execution_count": 9,
     "metadata": {},
     "output_type": "execute_result"
    }
   ],
   "source": [
    "intercept"
   ]
  },
  {
   "cell_type": "code",
   "execution_count": 10,
   "id": "baef536a-26ce-4008-a39c-933e246ec024",
   "metadata": {},
   "outputs": [],
   "source": [
    "def bestFittedCurve(x, slope, intercept):\n",
    "    return (x*slope + intercept)"
   ]
  },
  {
   "cell_type": "code",
   "execution_count": 11,
   "id": "e958cf5c-4dea-4075-9b37-35539dc97b89",
   "metadata": {},
   "outputs": [
    {
     "data": {
      "text/plain": [
       "[88.56353591160222,\n",
       " 91.42541436464089,\n",
       " 87.13259668508287,\n",
       " 88.56353591160222,\n",
       " 95.7182320441989,\n",
       " 81.40883977900553,\n",
       " 91.42541436464089,\n",
       " 85.70165745856355,\n",
       " 92.85635359116023,\n",
       " 82.83977900552486,\n",
       " 71.39226519337018,\n",
       " 85.70165745856355,\n",
       " 84.2707182320442]"
      ]
     },
     "execution_count": 11,
     "metadata": {},
     "output_type": "execute_result"
    }
   ],
   "source": [
    "y_pred = []\n",
    "for i in range(0, m):\n",
    "    y_pred.append(bestFittedCurve(x[i], slope, intercept))\n",
    "\n",
    "y_pred"
   ]
  },
  {
   "cell_type": "code",
   "execution_count": 12,
   "id": "e37f7502-1544-4c77-9fd3-a63daea0aa0c",
   "metadata": {},
   "outputs": [],
   "source": [
    "def sse(y, y_pred):\n",
    "    error = 0\n",
    "    temp = []\n",
    "    for i in range(0, m):\n",
    "        temp.append((y[i] - y_pred[i])**2)\n",
    "    error = np.sum(temp)\n",
    "    return error"
   ]
  },
  {
   "cell_type": "code",
   "execution_count": 13,
   "id": "94313875-4d83-4ca8-9cbd-319442b5c620",
   "metadata": {},
   "outputs": [
    {
     "data": {
      "text/plain": [
       "1334.6298342541436"
      ]
     },
     "execution_count": 13,
     "metadata": {},
     "output_type": "execute_result"
    }
   ],
   "source": [
    "sse(y, y_pred)"
   ]
  },
  {
   "cell_type": "code",
   "execution_count": 15,
   "id": "4f7fa91e-4957-4892-9995-6e2a00227ced",
   "metadata": {},
   "outputs": [
    {
     "data": {
      "image/png": "[encoded data removed]",
      "text/plain": [
       "<Figure size 640x480 with 1 Axes>"
      ]
     },
     "metadata": {},
     "output_type": "display_data"
    }
   ],
   "source": [
    "plt.plot(x, y_pred, 'red')\n",
    "plt.title('Best Fitted Curve')\n",
    "plt.scatter(x, y)\n",
    "plt.show()"
   ]
  },
  {
   "cell_type": "code",
   "execution_count": null,
   "id": "cb10c966-261e-4b2a-a1c4-be8b1c001f2c",
   "metadata": {},
   "outputs": [],
   "source": []
  }
 ],
 "metadata": {
  "kernelspec": {
   "display_name": "Python 3 (ipykernel)",
   "language": "python",
   "name": "python3"
  },
  "language_info": {
   "codemirror_mode": {
    "name": "ipython",
    "version": 3
   },
   "file_extension": ".py",
   "mimetype": "text/x-python",
   "name": "python",
   "nbconvert_exporter": "python",
   "pygments_lexer": "ipython3",
   "version": "3.12.4"
  }
 },
 "nbformat": 4,
 "nbformat_minor": 5
}

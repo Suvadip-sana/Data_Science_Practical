{
 "cells": [
  {
   "cell_type": "markdown",
   "id": "d6b26639-6dd2-4605-99ac-981fcc6f3032",
   "metadata": {},
   "source": [
    "# Logistic Regression using Gredient Decent"
   ]
  },
  {
   "cell_type": "markdown",
   "id": "f917fb4b-843a-4111-bc03-ea4d524e4f28",
   "metadata": {},
   "source": [
    "### What is Logistic Regression?\n",
    "Logistic regression is a supervised machine learning algorithm used for binary classification problems, where the goal is to predict one of two possible outcomes (e.g., yes/no, 0/1, success/failure). Unlike linear regression, which predicts continuous values, logistic regression predicts probabilities that map to discrete classes."
   ]
  },
  {
   "cell_type": "markdown",
   "id": "05ff7cde-2fb3-4e1b-9520-339b6910a2f5",
   "metadata": {},
   "source": [
    "### Logistic Regression using Gradient Descent: Step-by-Step Algorithm\n",
    "\n",
    "#### 1. Import Libraries and Load Data\n",
    "    1) Use essential libraries such as NumPy, Pandas, and Matplotlib for mathematical calculations, data manipulation, and plotting.\n",
    "    2) Load the dataset using Pandas and extract the independent variable (Glucose) and dependent variable (Outcome) as inputs and outputs.\n",
    "\n",
    "#### 2. Visualize the Data\n",
    "    Create a scatter plot to observe the relationship between the independent and dependent variables.\n",
    "\n",
    "#### 3. Define the Sigmoid Function\n",
    "    Implement a function that maps values to a range between 0 and 1. This function is essential for logistic regression as it outputs probabilities.\n",
    "\n",
    "#### 4. Define the Probability Function\n",
    "    Create a function that calculates the probability of an input belonging to a particular class using the sigmoid function.\n",
    "\n",
    "#### 5. Define the Cost Function\n",
    "    Write a function that measures how well the model predicts the actual outcomes. This cost function uses logarithmic terms to handle probabilities effectively and penalizes incorrect predictions more heavily.\n",
    "\n",
    "#### 6. Gradient Descent Algorithm\n",
    "    1) Initialize the parameters (intercept and slope) with arbitrary values.\n",
    "    2) Set a learning rate to control the step size for parameter updates.\n",
    "    3) Use an iterative approach to adjust the parameters:\n",
    "        1. Update the intercept by reducing the cumulative error contribution of incorrect predictions.\n",
    "        2. Update the slope by considering the error and its relationship with the independent variable values.\n",
    "    4) Continue updating until the cost function stops changing significantly (i.e., the algorithm converges).\n",
    "\n",
    "#### 7. Predict Outcomes\n",
    "    After training, use the optimized parameters to make predictions:\n",
    "        1) For each input value, calculate the probability of belonging to the positive class.\n",
    "        2) Assign the predicted class based on whether the probability exceeds a threshold (e.g., 0.5).\n",
    "\n",
    "#### 8. Visualize Predictions\n",
    "    Create a scatter plot showing the actual data points and another plot overlaying the predicted outcomes. This visualization helps assess how well the model distinguishes between classes.\n",
    "\n",
    "#### 9. Evaluate the Model\n",
    "    Optionally, measure the model's performance using metrics such as accuracy, precision, recall, or \n",
    "𝐹\n",
    "1\n",
    "F \n",
    "1\n",
    "​\n",
    " -score to determine how effectively it classifies the data."
   ]
  },
  {
   "cell_type": "code",
   "execution_count": 1,
   "id": "4ad6a42b-d363-4d59-bc6f-88802402e21a",
   "metadata": {},
   "outputs": [],
   "source": [
    "import numpy as np\n",
    "import matplotlib.pyplot as plt\n",
    "import pandas as pd"
   ]
  },
  {
   "cell_type": "code",
   "execution_count": 2,
   "id": "380e3d23-fef4-43ab-ac7a-7163018fde3f",
   "metadata": {},
   "outputs": [],
   "source": [
    "df = pd.read_csv(\"diabetes.csv\")"
   ]
  },
  {
   "cell_type": "code",
   "execution_count": 3,
   "id": "00624ed2-64af-4b91-bc29-f111ce6759ee",
   "metadata": {},
   "outputs": [
    {
     "data": {
      "text/html": [
       "<div>\n",
       "<style scoped>\n",
       "    .dataframe tbody tr th:only-of-type {\n",
       "        vertical-align: middle;\n",
       "    }\n",
       "\n",
       "    .dataframe tbody tr th {\n",
       "        vertical-align: top;\n",
       "    }\n",
       "\n",
       "    .dataframe thead th {\n",
       "        text-align: right;\n",
       "    }\n",
       "</style>\n",
       "<table border=\"1\" class=\"dataframe\">\n",
       "  <thead>\n",
       "    <tr style=\"text-align: right;\">\n",
       "      <th></th>\n",
       "      <th>Pregnancies</th>\n",
       "      <th>Glucose</th>\n",
       "      <th>BloodPressure</th>\n",
       "      <th>SkinThickness</th>\n",
       "      <th>Insulin</th>\n",
       "      <th>BMI</th>\n",
       "      <th>DiabetesPedigreeFunction</th>\n",
       "      <th>Age</th>\n",
       "      <th>Outcome</th>\n",
       "    </tr>\n",
       "  </thead>\n",
       "  <tbody>\n",
       "    <tr>\n",
       "      <th>0</th>\n",
       "      <td>6</td>\n",
       "      <td>148</td>\n",
       "      <td>72</td>\n",
       "      <td>35</td>\n",
       "      <td>0</td>\n",
       "      <td>33.6</td>\n",
       "      <td>0.627</td>\n",
       "      <td>50</td>\n",
       "      <td>1</td>\n",
       "    </tr>\n",
       "    <tr>\n",
       "      <th>1</th>\n",
       "      <td>1</td>\n",
       "      <td>85</td>\n",
       "      <td>66</td>\n",
       "      <td>29</td>\n",
       "      <td>0</td>\n",
       "      <td>26.6</td>\n",
       "      <td>0.351</td>\n",
       "      <td>31</td>\n",
       "      <td>0</td>\n",
       "    </tr>\n",
       "    <tr>\n",
       "      <th>2</th>\n",
       "      <td>8</td>\n",
       "      <td>183</td>\n",
       "      <td>64</td>\n",
       "      <td>0</td>\n",
       "      <td>0</td>\n",
       "      <td>23.3</td>\n",
       "      <td>0.672</td>\n",
       "      <td>32</td>\n",
       "      <td>1</td>\n",
       "    </tr>\n",
       "    <tr>\n",
       "      <th>3</th>\n",
       "      <td>1</td>\n",
       "      <td>89</td>\n",
       "      <td>66</td>\n",
       "      <td>23</td>\n",
       "      <td>94</td>\n",
       "      <td>28.1</td>\n",
       "      <td>0.167</td>\n",
       "      <td>21</td>\n",
       "      <td>0</td>\n",
       "    </tr>\n",
       "    <tr>\n",
       "      <th>4</th>\n",
       "      <td>0</td>\n",
       "      <td>137</td>\n",
       "      <td>40</td>\n",
       "      <td>35</td>\n",
       "      <td>168</td>\n",
       "      <td>43.1</td>\n",
       "      <td>2.288</td>\n",
       "      <td>33</td>\n",
       "      <td>1</td>\n",
       "    </tr>\n",
       "    <tr>\n",
       "      <th>...</th>\n",
       "      <td>...</td>\n",
       "      <td>...</td>\n",
       "      <td>...</td>\n",
       "      <td>...</td>\n",
       "      <td>...</td>\n",
       "      <td>...</td>\n",
       "      <td>...</td>\n",
       "      <td>...</td>\n",
       "      <td>...</td>\n",
       "    </tr>\n",
       "    <tr>\n",
       "      <th>763</th>\n",
       "      <td>10</td>\n",
       "      <td>101</td>\n",
       "      <td>76</td>\n",
       "      <td>48</td>\n",
       "      <td>180</td>\n",
       "      <td>32.9</td>\n",
       "      <td>0.171</td>\n",
       "      <td>63</td>\n",
       "      <td>0</td>\n",
       "    </tr>\n",
       "    <tr>\n",
       "      <th>764</th>\n",
       "      <td>2</td>\n",
       "      <td>122</td>\n",
       "      <td>70</td>\n",
       "      <td>27</td>\n",
       "      <td>0</td>\n",
       "      <td>36.8</td>\n",
       "      <td>0.340</td>\n",
       "      <td>27</td>\n",
       "      <td>0</td>\n",
       "    </tr>\n",
       "    <tr>\n",
       "      <th>765</th>\n",
       "      <td>5</td>\n",
       "      <td>121</td>\n",
       "      <td>72</td>\n",
       "      <td>23</td>\n",
       "      <td>112</td>\n",
       "      <td>26.2</td>\n",
       "      <td>0.245</td>\n",
       "      <td>30</td>\n",
       "      <td>0</td>\n",
       "    </tr>\n",
       "    <tr>\n",
       "      <th>766</th>\n",
       "      <td>1</td>\n",
       "      <td>126</td>\n",
       "      <td>60</td>\n",
       "      <td>0</td>\n",
       "      <td>0</td>\n",
       "      <td>30.1</td>\n",
       "      <td>0.349</td>\n",
       "      <td>47</td>\n",
       "      <td>1</td>\n",
       "    </tr>\n",
       "    <tr>\n",
       "      <th>767</th>\n",
       "      <td>1</td>\n",
       "      <td>93</td>\n",
       "      <td>70</td>\n",
       "      <td>31</td>\n",
       "      <td>0</td>\n",
       "      <td>30.4</td>\n",
       "      <td>0.315</td>\n",
       "      <td>23</td>\n",
       "      <td>0</td>\n",
       "    </tr>\n",
       "  </tbody>\n",
       "</table>\n",
       "<p>768 rows × 9 columns</p>\n",
       "</div>"
      ],
      "text/plain": [
       "     Pregnancies  Glucose  BloodPressure  SkinThickness  Insulin   BMI  \\\n",
       "0              6      148             72             35        0  33.6   \n",
       "1              1       85             66             29        0  26.6   \n",
       "2              8      183             64              0        0  23.3   \n",
       "3              1       89             66             23       94  28.1   \n",
       "4              0      137             40             35      168  43.1   \n",
       "..           ...      ...            ...            ...      ...   ...   \n",
       "763           10      101             76             48      180  32.9   \n",
       "764            2      122             70             27        0  36.8   \n",
       "765            5      121             72             23      112  26.2   \n",
       "766            1      126             60              0        0  30.1   \n",
       "767            1       93             70             31        0  30.4   \n",
       "\n",
       "     DiabetesPedigreeFunction  Age  Outcome  \n",
       "0                       0.627   50        1  \n",
       "1                       0.351   31        0  \n",
       "2                       0.672   32        1  \n",
       "3                       0.167   21        0  \n",
       "4                       2.288   33        1  \n",
       "..                        ...  ...      ...  \n",
       "763                     0.171   63        0  \n",
       "764                     0.340   27        0  \n",
       "765                     0.245   30        0  \n",
       "766                     0.349   47        1  \n",
       "767                     0.315   23        0  \n",
       "\n",
       "[768 rows x 9 columns]"
      ]
     },
     "execution_count": 3,
     "metadata": {},
     "output_type": "execute_result"
    }
   ],
   "source": [
    "df"
   ]
  },
  {
   "cell_type": "code",
   "execution_count": 4,
   "id": "aa8b1b1e-7d8b-420b-a791-380b2cbafc17",
   "metadata": {},
   "outputs": [],
   "source": [
    "x = df['Glucose'].values"
   ]
  },
  {
   "cell_type": "code",
   "execution_count": 5,
   "id": "5936bf41-0ce0-4e23-8154-56b3894e5c29",
   "metadata": {},
   "outputs": [
    {
     "data": {
      "text/plain": [
       "array([148,  85, 183,  89, 137, 116,  78, 115, 197, 125, 110, 168, 139,\n",
       "       189, 166, 100, 118, 107, 103, 115, 126,  99, 196, 119, 143, 125,\n",
       "       147,  97, 145, 117, 109, 158,  88,  92, 122, 103, 138, 102,  90,\n",
       "       111, 180, 133, 106, 171, 159, 180, 146,  71, 103, 105, 103, 101,\n",
       "        88, 176, 150,  73, 187, 100, 146, 105,  84, 133,  44, 141, 114,\n",
       "        99, 109, 109,  95, 146, 100, 139, 126, 129,  79,   0,  62,  95,\n",
       "       131, 112, 113,  74,  83, 101, 137, 110, 106, 100, 136, 107,  80,\n",
       "       123,  81, 134, 142, 144,  92,  71,  93, 122, 163, 151, 125,  81,\n",
       "        85, 126,  96, 144,  83,  95, 171, 155,  89,  76, 160, 146, 124,\n",
       "        78,  97,  99, 162, 111, 107, 132, 113,  88, 120, 118, 117, 105,\n",
       "       173, 122, 170,  84,  96, 125, 100,  93, 129, 105, 128, 106, 108,\n",
       "       108, 154, 102,  57, 106, 147,  90, 136, 114, 156, 153, 188, 152,\n",
       "        99, 109,  88, 163, 151, 102, 114, 100, 131, 104, 148, 120, 110,\n",
       "       111, 102, 134,  87,  79,  75, 179,  85, 129, 143, 130,  87, 119,\n",
       "         0,  73, 141, 194, 181, 128, 109, 139, 111, 123, 159, 135,  85,\n",
       "       158, 105, 107, 109, 148, 113, 138, 108,  99, 103, 111, 196, 162,\n",
       "        96, 184,  81, 147, 179, 140, 112, 151, 109, 125,  85, 112, 177,\n",
       "       158, 119, 142, 100,  87, 101, 162, 197, 117, 142, 134,  79, 122,\n",
       "        74, 171, 181, 179, 164, 104,  91,  91, 139, 119, 146, 184, 122,\n",
       "       165, 124, 111, 106, 129,  90,  86,  92, 113, 111, 114, 193, 155,\n",
       "       191, 141,  95, 142, 123,  96, 138, 128, 102, 146, 101, 108, 122,\n",
       "        71, 106, 100, 106, 104, 114, 108, 146, 129, 133, 161, 108, 136,\n",
       "       155, 119,  96, 108,  78, 107, 128, 128, 161, 151, 146, 126, 100,\n",
       "       112, 167, 144,  77, 115, 150, 120, 161, 137, 128, 124,  80, 106,\n",
       "       155, 113, 109, 112,  99, 182, 115, 194, 129, 112, 124, 152, 112,\n",
       "       157, 122, 179, 102, 105, 118,  87, 180, 106,  95, 165, 117, 115,\n",
       "       152, 178, 130,  95,   0, 122,  95, 126, 139, 116,  99,   0,  92,\n",
       "       137,  61,  90,  90, 165, 125, 129,  88, 196, 189, 158, 103, 146,\n",
       "       147,  99, 124, 101,  81, 133, 173, 118,  84, 105, 122, 140,  98,\n",
       "        87, 156,  93, 107, 105, 109,  90, 125, 119, 116, 105, 144, 100,\n",
       "       100, 166, 131, 116, 158, 127,  96, 131,  82, 193,  95, 137, 136,\n",
       "        72, 168, 123, 115, 101, 197, 172, 102, 112, 143, 143, 138, 173,\n",
       "        97, 144,  83, 129, 119,  94, 102, 115, 151, 184,  94, 181, 135,\n",
       "        95,  99,  89,  80, 139,  90, 141, 140, 147,  97, 107, 189,  83,\n",
       "       117, 108, 117, 180, 100,  95, 104, 120,  82, 134,  91, 119, 100,\n",
       "       175, 135,  86, 148, 134, 120,  71,  74,  88, 115, 124,  74,  97,\n",
       "       120, 154, 144, 137, 119, 136, 114, 137, 105, 114, 126, 132, 158,\n",
       "       123,  85,  84, 145, 135, 139, 173,  99, 194,  83,  89,  99, 125,\n",
       "        80, 166, 110,  81, 195, 154, 117,  84,   0,  94,  96,  75, 180,\n",
       "       130,  84, 120,  84, 139,  91,  91,  99, 163, 145, 125,  76, 129,\n",
       "        68, 124, 114, 130, 125,  87,  97, 116, 117, 111, 122, 107,  86,\n",
       "        91,  77, 132, 105,  57, 127, 129, 100, 128,  90,  84,  88, 186,\n",
       "       187, 131, 164, 189, 116,  84, 114,  88,  84, 124,  97, 110, 103,\n",
       "        85, 125, 198,  87,  99,  91,  95,  99,  92, 154, 121,  78, 130,\n",
       "       111,  98, 143, 119, 108, 118, 133, 197, 151, 109, 121, 100, 124,\n",
       "        93, 143, 103, 176,  73, 111, 112, 132,  82, 123, 188,  67,  89,\n",
       "       173, 109, 108,  96, 124, 150, 183, 124, 181,  92, 152, 111, 106,\n",
       "       174, 168, 105, 138, 106, 117,  68, 112, 119, 112,  92, 183,  94,\n",
       "       108,  90, 125, 132, 128,  94, 114, 102, 111, 128,  92, 104, 104,\n",
       "        94,  97, 100, 102, 128, 147,  90, 103, 157, 167, 179, 136, 107,\n",
       "        91, 117, 123, 120, 106, 155, 101, 120, 127,  80, 162, 199, 167,\n",
       "       145, 115, 112, 145, 111,  98, 154, 165,  99,  68, 123,  91, 195,\n",
       "       156,  93, 121, 101,  56, 162,  95, 125, 136, 129, 130, 107, 140,\n",
       "       144, 107, 158, 121, 129,  90, 142, 169,  99, 127, 118, 122, 125,\n",
       "       168, 129, 110,  80, 115, 127, 164,  93, 158, 126, 129, 134, 102,\n",
       "       187, 173,  94, 108,  97,  83, 114, 149, 117, 111, 112, 116, 141,\n",
       "       175,  92, 130, 120, 174, 106, 105,  95, 126,  65,  99, 102, 120,\n",
       "       102, 109, 140, 153, 100, 147,  81, 187, 162, 136, 121, 108, 181,\n",
       "       154, 128, 137, 123, 106, 190,  88, 170,  89, 101, 122, 121, 126,\n",
       "        93], dtype=int64)"
      ]
     },
     "execution_count": 5,
     "metadata": {},
     "output_type": "execute_result"
    }
   ],
   "source": [
    "x"
   ]
  },
  {
   "cell_type": "code",
   "execution_count": 6,
   "id": "9b080ef3-6e93-4f8c-9936-bc31262dfc11",
   "metadata": {},
   "outputs": [],
   "source": [
    "y = df[\"Outcome\"].values"
   ]
  },
  {
   "cell_type": "code",
   "execution_count": 7,
   "id": "3116b6c7-adfc-45bd-8658-46b54d2f20de",
   "metadata": {},
   "outputs": [
    {
     "data": {
      "text/plain": [
       "array([1, 0, 1, 0, 1, 0, 1, 0, 1, 1, 0, 1, 0, 1, 1, 1, 1, 1, 0, 1, 0, 0,\n",
       "       1, 1, 1, 1, 1, 0, 0, 0, 0, 1, 0, 0, 0, 0, 0, 1, 1, 1, 0, 0, 0, 1,\n",
       "       0, 1, 0, 0, 1, 0, 0, 0, 0, 1, 0, 0, 1, 0, 0, 0, 0, 1, 0, 0, 1, 0,\n",
       "       1, 0, 0, 0, 1, 0, 1, 0, 0, 0, 0, 0, 1, 0, 0, 0, 0, 0, 1, 0, 0, 0,\n",
       "       1, 0, 0, 0, 0, 1, 0, 0, 0, 0, 0, 1, 1, 0, 0, 0, 0, 0, 0, 0, 0, 1,\n",
       "       1, 1, 0, 0, 1, 1, 1, 0, 0, 0, 1, 0, 0, 0, 1, 1, 0, 0, 1, 1, 1, 1,\n",
       "       1, 0, 0, 0, 0, 0, 0, 0, 0, 0, 0, 1, 0, 0, 0, 0, 0, 0, 0, 0, 1, 0,\n",
       "       1, 1, 0, 0, 0, 1, 0, 0, 0, 0, 1, 1, 0, 0, 0, 0, 1, 1, 0, 0, 0, 1,\n",
       "       0, 1, 0, 1, 0, 0, 0, 0, 0, 1, 1, 1, 1, 1, 0, 0, 1, 1, 0, 1, 0, 1,\n",
       "       1, 1, 0, 0, 0, 0, 0, 0, 1, 1, 0, 1, 0, 0, 0, 1, 1, 1, 1, 0, 1, 1,\n",
       "       1, 1, 0, 0, 0, 0, 0, 1, 0, 0, 1, 1, 0, 0, 0, 1, 1, 1, 1, 0, 0, 0,\n",
       "       1, 1, 0, 1, 0, 0, 0, 0, 0, 0, 0, 0, 1, 1, 0, 0, 0, 1, 0, 1, 0, 0,\n",
       "       1, 0, 1, 0, 0, 1, 1, 0, 0, 0, 0, 0, 1, 0, 0, 0, 1, 0, 0, 1, 1, 0,\n",
       "       0, 1, 0, 0, 0, 1, 1, 1, 0, 0, 1, 0, 1, 0, 1, 1, 0, 1, 0, 0, 1, 0,\n",
       "       1, 1, 0, 0, 1, 0, 1, 0, 0, 1, 0, 1, 0, 1, 1, 1, 0, 0, 1, 0, 1, 0,\n",
       "       0, 0, 1, 0, 0, 0, 0, 1, 1, 1, 0, 0, 0, 0, 0, 0, 0, 0, 0, 1, 0, 0,\n",
       "       0, 0, 0, 1, 1, 1, 0, 1, 1, 0, 0, 1, 0, 0, 1, 0, 0, 1, 1, 0, 0, 0,\n",
       "       0, 1, 0, 0, 1, 0, 0, 0, 0, 0, 0, 0, 1, 1, 1, 0, 0, 1, 0, 0, 1, 0,\n",
       "       0, 1, 0, 1, 1, 0, 1, 0, 1, 0, 1, 0, 1, 1, 0, 0, 0, 0, 1, 1, 0, 1,\n",
       "       0, 1, 0, 0, 0, 0, 1, 1, 0, 1, 0, 1, 0, 0, 0, 0, 0, 1, 0, 0, 0, 0,\n",
       "       1, 0, 0, 1, 1, 1, 0, 0, 1, 0, 0, 1, 0, 0, 0, 1, 0, 0, 1, 0, 0, 0,\n",
       "       0, 0, 0, 0, 0, 0, 1, 0, 0, 0, 0, 0, 0, 0, 1, 0, 0, 0, 1, 0, 0, 0,\n",
       "       1, 1, 0, 0, 0, 0, 0, 0, 0, 1, 0, 0, 0, 0, 1, 0, 0, 0, 1, 0, 0, 0,\n",
       "       1, 0, 0, 0, 1, 0, 0, 0, 0, 1, 1, 0, 0, 0, 0, 0, 0, 1, 0, 0, 0, 0,\n",
       "       0, 0, 0, 0, 0, 0, 0, 1, 0, 0, 0, 1, 1, 1, 1, 0, 0, 1, 1, 0, 0, 0,\n",
       "       0, 0, 0, 0, 0, 0, 0, 0, 0, 0, 1, 1, 0, 0, 0, 0, 0, 0, 0, 1, 0, 0,\n",
       "       0, 0, 0, 0, 0, 1, 0, 1, 1, 0, 0, 0, 1, 0, 1, 0, 1, 0, 1, 0, 1, 0,\n",
       "       0, 1, 0, 0, 1, 0, 0, 0, 0, 1, 1, 0, 1, 0, 0, 0, 0, 1, 1, 0, 1, 0,\n",
       "       0, 0, 1, 1, 0, 0, 0, 0, 0, 0, 0, 0, 0, 0, 1, 0, 0, 0, 0, 1, 0, 0,\n",
       "       1, 0, 0, 0, 1, 0, 0, 0, 1, 1, 1, 0, 0, 0, 0, 0, 0, 1, 0, 0, 0, 1,\n",
       "       0, 1, 1, 1, 1, 0, 1, 1, 0, 0, 0, 0, 0, 0, 0, 1, 1, 0, 1, 0, 0, 1,\n",
       "       0, 1, 0, 0, 0, 0, 0, 1, 0, 1, 0, 1, 0, 1, 1, 0, 0, 0, 0, 1, 1, 0,\n",
       "       0, 0, 1, 0, 1, 1, 0, 0, 1, 0, 0, 1, 1, 0, 0, 1, 0, 0, 1, 0, 0, 0,\n",
       "       0, 0, 0, 0, 1, 1, 1, 0, 0, 0, 0, 0, 0, 1, 1, 0, 0, 1, 0, 0, 1, 0,\n",
       "       1, 1, 1, 0, 0, 1, 1, 1, 0, 1, 0, 1, 0, 1, 0, 0, 0, 0, 1, 0],\n",
       "      dtype=int64)"
      ]
     },
     "execution_count": 7,
     "metadata": {},
     "output_type": "execute_result"
    }
   ],
   "source": [
    "y"
   ]
  },
  {
   "cell_type": "code",
   "execution_count": 8,
   "id": "8bf6adf7-5ef5-4a81-989d-a77f2825bd35",
   "metadata": {},
   "outputs": [
    {
     "data": {
      "text/plain": [
       "<matplotlib.collections.PathCollection at 0x1d2d668af60>"
      ]
     },
     "execution_count": 8,
     "metadata": {},
     "output_type": "execute_result"
    },
    {
     "data": {
      "image/png": "[encoded data removed]",
      "text/plain": [
       "<Figure size 640x480 with 1 Axes>"
      ]
     },
     "metadata": {},
     "output_type": "display_data"
    }
   ],
   "source": [
    "plt.scatter(x,y,color='r',marker='H')"
   ]
  },
  {
   "cell_type": "code",
   "execution_count": 9,
   "id": "6577cab3-3377-4de5-a198-2dc9e7430406",
   "metadata": {},
   "outputs": [],
   "source": [
    "def sigmoid(y):\n",
    "    return (1/(1+np.exp(-y)))"
   ]
  },
  {
   "cell_type": "code",
   "execution_count": 10,
   "id": "304ce9cc-dc44-4d10-bff2-1df2687ea0c2",
   "metadata": {},
   "outputs": [],
   "source": [
    "def p(x,b0,b1):\n",
    "    return (sigmoid(b0 + b1*x))"
   ]
  },
  {
   "cell_type": "code",
   "execution_count": 11,
   "id": "05407c2e-b9fa-4b5e-9b13-ec97427700f1",
   "metadata": {},
   "outputs": [],
   "source": [
    "def cost(x,y,b0,b1):\n",
    "    n = len(x)\n",
    "    c = 0\n",
    "    for i in range(n):\n",
    "        c = c+y[i]*np.log(p(x[i],b0,b1) + 0.00001) + (1-y[i]) * np.log(1 - p(x[i],b0,b1)+0.0001)\n",
    "    return -1*(c/n)"
   ]
  },
  {
   "cell_type": "code",
   "execution_count": 20,
   "id": "83211202-47b4-4a7b-8305-acc9532e9a7a",
   "metadata": {},
   "outputs": [],
   "source": [
    "# Gradient Descent function\n",
    "def gradientDescent(x, y, max_epochs=10, learning_rate=0.0001):\n",
    "    b0 = 5\n",
    "    b1 = 10\n",
    "    n = len(x)\n",
    "\n",
    "    for epoch in range(max_epochs):\n",
    "        b0_cost = 0\n",
    "        b1_cost = 0\n",
    "\n",
    "        for i in range(n):\n",
    "            b1_cost += (-y[i] + p(x[i], b0, b1)) * x[i]\n",
    "            b0_cost += (-y[i] + p(x[i], b0, b1))\n",
    "\n",
    "        b1 = b1 - learning_rate * (b1_cost / n)\n",
    "        b0 = b0 - learning_rate * (b0_cost / n)\n",
    "\n",
    "        c = cost(x, y, b0, b1)\n",
    "        print(f\"Epoch {epoch + 1}: Cost = {c}\")\n",
    "\n",
    "    return b0, b1"
   ]
  },
  {
   "cell_type": "code",
   "execution_count": 21,
   "id": "2d05c752-e05e-4499-b3e3-6451c7bbcc35",
   "metadata": {},
   "outputs": [
    {
     "name": "stdout",
     "output_type": "stream",
     "text": [
      "Epoch 1: Cost = 5.9798507537059775\n",
      "Epoch 2: Cost = 5.979850505964893\n",
      "Epoch 3: Cost = 5.979850258223755\n",
      "Epoch 4: Cost = 5.979850010482564\n",
      "Epoch 5: Cost = 5.979849762741318\n",
      "Epoch 6: Cost = 5.979849515000019\n",
      "Epoch 7: Cost = 5.979849267258666\n",
      "Epoch 8: Cost = 5.979849019517258\n",
      "Epoch 9: Cost = 5.979848771775798\n",
      "Epoch 10: Cost = 5.979848524034282\n"
     ]
    }
   ],
   "source": [
    "b0,b1 = gradientDescent(x,y)"
   ]
  },
  {
   "cell_type": "code",
   "execution_count": 22,
   "id": "dedfa622-a3f6-41ab-9b23-be3d52179993",
   "metadata": {},
   "outputs": [],
   "source": [
    "def yPredict(b0,b1,x):\n",
    "    l = []\n",
    "    for i in range(len(x)):\n",
    "        if(p(x[i],b0,b1) >= 0.5):\n",
    "            l.append(1)\n",
    "        else:\n",
    "            l.append(0)\n",
    "    return(np.array(l))"
   ]
  },
  {
   "cell_type": "code",
   "execution_count": 16,
   "id": "fecdd1fc-d4fd-4919-b23a-be0cf2193017",
   "metadata": {},
   "outputs": [],
   "source": [
    "y_predict = yPredict(b0,b1,x)"
   ]
  },
  {
   "cell_type": "code",
   "execution_count": null,
   "id": "8552c8a6-34fd-4ec9-b421-c14fef156e86",
   "metadata": {},
   "outputs": [],
   "source": []
  }
 ],
 "metadata": {
  "kernelspec": {
   "display_name": "Python 3 (ipykernel)",
   "language": "python",
   "name": "python3"
  },
  "language_info": {
   "codemirror_mode": {
    "name": "ipython",
    "version": 3
   },
   "file_extension": ".py",
   "mimetype": "text/x-python",
   "name": "python",
   "nbconvert_exporter": "python",
   "pygments_lexer": "ipython3",
   "version": "3.12.4"
  }
 },
 "nbformat": 4,
 "nbformat_minor": 5
}
